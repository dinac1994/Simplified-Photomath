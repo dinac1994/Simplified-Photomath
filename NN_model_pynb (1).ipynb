{
  "cells": [
    {
      "cell_type": "markdown",
      "metadata": {
        "id": "vFCGyCa8IvPP"
      },
      "source": [
        "## **CNN for Character Classification**\n",
        "\n",
        "Training dataset of mathematical characters is available at: https://www.kaggle.com/xainano/handwrittenmathsymbols\n",
        "\n",
        "Around 500 pictures of each character (`0`, `1`, `2`, `3`, `4`, `5`, `6`, `7`, `8`, `9`, `+`, `-`, `×`, `(` and `)`) are given for the training of the convolutional neural network."
      ]
    },
    {
      "cell_type": "code",
      "execution_count": null,
      "metadata": {
        "colab": {
          "base_uri": "https://localhost:8080/"
        },
        "id": "uYCTMTQKQSE_",
        "outputId": "f9d182ed-2726-4874-887c-17832973eccd"
      },
      "outputs": [
        {
          "output_type": "stream",
          "name": "stdout",
          "text": [
            "Drive already mounted at /content/gdrive; to attempt to forcibly remount, call drive.mount(\"/content/gdrive\", force_remount=True).\n"
          ]
        }
      ],
      "source": [
        "from google.colab import drive\n",
        "drive.mount('/content/gdrive')"
      ]
    },
    {
      "cell_type": "code",
      "execution_count": null,
      "metadata": {
        "id": "dgib4MCeUrQ_"
      },
      "outputs": [],
      "source": [
        "import numpy as np\n",
        "import tensorflow as tf\n",
        "import os\n",
        "import cv2"
      ]
    },
    {
      "cell_type": "code",
      "execution_count": null,
      "metadata": {
        "id": "DS1VM_v2U2EX"
      },
      "outputs": [],
      "source": [
        "symbols_list = ['0', '1', '2', '3', '4', '5', '6', '7', '8', '9', '+', '-', '(', ')', 'times']"
      ]
    },
    {
      "cell_type": "markdown",
      "metadata": {
        "id": "Vir6LV8oYZgE"
      },
      "source": [
        "### Reading data"
      ]
    },
    {
      "cell_type": "code",
      "execution_count": null,
      "metadata": {
        "id": "CduiZndrVO_0"
      },
      "outputs": [],
      "source": [
        "dataset_path = \"/content/gdrive/MyDrive/Training_Dataset\"\n",
        "images = []\n",
        "labels = []\n",
        "\n",
        "for symbols_dir in os.listdir(dataset_path):\n",
        "    if symbols_dir.split()[0] in symbols_list:\n",
        "        for image in os.listdir(dataset_path + \"/\" + symbols_dir):\n",
        "            labels.append(symbols_dir.split()[0])\n",
        "            images.append(dataset_path + \"/\" + symbols_dir + \"/\" + image)"
      ]
    },
    {
      "cell_type": "code",
      "execution_count": null,
      "metadata": {
        "colab": {
          "base_uri": "https://localhost:8080/"
        },
        "id": "IXAoEToScV0d",
        "outputId": "768c3d73-9519-4de8-fd57-e16ee00d475e"
      },
      "outputs": [
        {
          "output_type": "stream",
          "name": "stdout",
          "text": [
            "Length of train_image :  8199  , length of labels list :  8199\n"
          ]
        }
      ],
      "source": [
        "print(\"Length of train_image : \" , len(images) , \" , length of labels list : \" ,len(labels))"
      ]
    },
    {
      "cell_type": "markdown",
      "metadata": {
        "id": "lNW32nivc0Qg"
      },
      "source": [
        "### Examples of images and their labels"
      ]
    },
    {
      "cell_type": "code",
      "execution_count": null,
      "metadata": {
        "id": "jiVKdr_Rckmd"
      },
      "outputs": [],
      "source": [
        "from google.colab.patches import cv2_imshow\n",
        "import matplotlib.pyplot as plt"
      ]
    },
    {
      "cell_type": "code",
      "execution_count": null,
      "metadata": {
        "colab": {
          "base_uri": "https://localhost:8080/",
          "height": 281
        },
        "id": "fKhWN_Thcf4E",
        "outputId": "7c6f0a5d-f21f-4c82-8474-46f28bcdca4a"
      },
      "outputs": [
        {
          "output_type": "display_data",
          "data": {
            "image/png": "[encoded data removed]",
            "text/plain": [
              "<Figure size 432x288 with 1 Axes>"
            ]
          },
          "metadata": {
            "needs_background": "light"
          }
        }
      ],
      "source": [
        "image = cv2.imread(images[140])\n",
        "plt.imshow(image)\n",
        "plt.title(\"Label: \" + labels[140])\n",
        "plt.show()"
      ]
    },
    {
      "cell_type": "code",
      "execution_count": null,
      "metadata": {
        "colab": {
          "base_uri": "https://localhost:8080/",
          "height": 281
        },
        "id": "jkIyxjqNc6GH",
        "outputId": "1ff43f6e-6123-4ac1-d6ca-09c9abe5710c"
      },
      "outputs": [
        {
          "output_type": "display_data",
          "data": {
            "image/png": "[encoded data removed]",
            "text/plain": [
              "<Figure size 432x288 with 1 Axes>"
            ]
          },
          "metadata": {
            "needs_background": "light"
          }
        }
      ],
      "source": [
        "image = cv2.imread(images[572])\n",
        "plt.imshow(image)\n",
        "plt.title(\"Label: \" + labels[572])\n",
        "plt.show()"
      ]
    },
    {
      "cell_type": "markdown",
      "source": [
        "### **Preprocessing data**"
      ],
      "metadata": {
        "id": "GOBhpQV5oV2f"
      }
    },
    {
      "cell_type": "markdown",
      "source": [
        "**Images as numpy arrays**"
      ],
      "metadata": {
        "id": "TuoWdVBYpwlP"
      }
    },
    {
      "cell_type": "code",
      "source": [
        "X = []\n",
        "\n",
        "for i in range(0,8199):\n",
        "  img = cv2.imread(images[i])\n",
        "  X.append(img)"
      ],
      "metadata": {
        "id": "Cd6agnISmuxd"
      },
      "execution_count": null,
      "outputs": []
    },
    {
      "cell_type": "code",
      "source": [
        "X = np.array(X)\n",
        "X = X.astype('float32')\n",
        "X /= 255\n",
        "print(X.shape)"
      ],
      "metadata": {
        "colab": {
          "base_uri": "https://localhost:8080/"
        },
        "id": "bApTFmjEbAWg",
        "outputId": "8e8c633e-9e69-4660-f356-f0f9329893bc"
      },
      "execution_count": null,
      "outputs": [
        {
          "output_type": "stream",
          "name": "stdout",
          "text": [
            "(8199, 45, 45, 3)\n"
          ]
        }
      ]
    },
    {
      "cell_type": "code",
      "source": [
        "from sklearn import preprocessing\n",
        "\n",
        "label_encoder = preprocessing.LabelEncoder()\n",
        "y_temp = label_encoder.fit_transform(labels)"
      ],
      "metadata": {
        "id": "rXBNAzvXpHjO"
      },
      "execution_count": null,
      "outputs": []
    },
    {
      "cell_type": "code",
      "source": [
        "print(y_temp.shape)"
      ],
      "metadata": {
        "colab": {
          "base_uri": "https://localhost:8080/"
        },
        "id": "gEgrTytlqTeR",
        "outputId": "efe7964e-8b8d-4310-f95c-e58c0a64fc27"
      },
      "execution_count": null,
      "outputs": [
        {
          "output_type": "stream",
          "name": "stdout",
          "text": [
            "(8199,)\n"
          ]
        }
      ]
    },
    {
      "cell_type": "code",
      "source": [
        "import keras\n",
        "from keras import utils as np_utils\n",
        "y = keras.utils.np_utils.to_categorical(y_temp, 15)\n",
        "print(y.shape)"
      ],
      "metadata": {
        "colab": {
          "base_uri": "https://localhost:8080/"
        },
        "id": "VjTug4vlqcZK",
        "outputId": "e60121ac-0743-484b-f9a7-47d6dd34a659"
      },
      "execution_count": null,
      "outputs": [
        {
          "output_type": "stream",
          "name": "stdout",
          "text": [
            "(8199, 15)\n"
          ]
        }
      ]
    },
    {
      "cell_type": "code",
      "source": [
        "def character_detector(image):\n",
        "\n",
        "  gray = cv2.cvtColor(image, cv2.COLOR_BGR2GRAY) \n",
        "  _,thresh = cv2.threshold(gray, 70, 255, cv2.THRESH_BINARY_INV) \n",
        "  kernel = cv2.getStructuringElement(cv2.MORPH_CROSS,(3,3))\n",
        "  dilated = cv2.dilate(thresh,kernel,iterations = 0) \n",
        "  contours, hierarchy = cv2.findContours(thresh,cv2.RETR_EXTERNAL,cv2.CHAIN_APPROX_NONE)\n",
        "\n",
        "  cropped_images = np.zeros([len(contours), 45, 45]) \n",
        "  coordinates = np.zeros([len(contours), 2, 4])\n",
        "  i = 0\n",
        "\n",
        "  for contour in contours:\n",
        "    [x,y,w,h] = cv2.boundingRect(contour)\n",
        "    cropped_images[i,:,:] = cv2.resize(gray[y:y+h,x:x+w], dsize=(45, 45), interpolation=cv2.INTER_CUBIC)\n",
        "    i = i + 1\n",
        "  \n",
        "  return cropped_images"
      ],
      "metadata": {
        "id": "2qV55dh5sXEC"
      },
      "execution_count": null,
      "outputs": []
    },
    {
      "cell_type": "code",
      "source": [
        "X.shape"
      ],
      "metadata": {
        "colab": {
          "base_uri": "https://localhost:8080/"
        },
        "id": "o-sqI2eGsovM",
        "outputId": "42c67f74-4783-493c-d0a5-2b7abaa7e058"
      },
      "execution_count": null,
      "outputs": [
        {
          "output_type": "execute_result",
          "data": {
            "text/plain": [
              "(8199, 45, 45, 3)"
            ]
          },
          "metadata": {},
          "execution_count": 71
        }
      ]
    },
    {
      "cell_type": "code",
      "source": [
        "X_edited = np.zeros((8199,45,45))\n",
        "\n",
        "for i in range(0, 8199):\n",
        "  temp = character_detector(cv2.imread(images[i]))\n",
        "  X_edited[i,:,:] = temp[0,:,:]"
      ],
      "metadata": {
        "id": "MLTV-bPdsxtc"
      },
      "execution_count": null,
      "outputs": []
    },
    {
      "cell_type": "code",
      "source": [
        "X_edited.shape"
      ],
      "metadata": {
        "colab": {
          "base_uri": "https://localhost:8080/"
        },
        "id": "jOsUjOlgwLMU",
        "outputId": "cb3c0014-954e-4adf-f115-4125d71dc0c9"
      },
      "execution_count": null,
      "outputs": [
        {
          "output_type": "execute_result",
          "data": {
            "text/plain": [
              "(8199, 45, 45)"
            ]
          },
          "metadata": {},
          "execution_count": 85
        }
      ]
    },
    {
      "cell_type": "code",
      "source": [
        "from google.colab.patches import cv2_imshow\n",
        "cv2_imshow(X_edited[3204,:,:])"
      ],
      "metadata": {
        "colab": {
          "base_uri": "https://localhost:8080/",
          "height": 62
        },
        "id": "edkkpLBmu9YQ",
        "outputId": "af279978-2fde-4978-852e-62617de80d2b"
      },
      "execution_count": null,
      "outputs": [
        {
          "output_type": "display_data",
          "data": {
            "image/png": "[encoded data removed]",
            "text/plain": [
              "<PIL.Image.Image image mode=L size=45x45 at 0x7FA23944F190>"
            ]
          },
          "metadata": {}
        }
      ]
    },
    {
      "cell_type": "code",
      "source": [
        "X_edited /= 255\n",
        "X_edited[3204,:,:]"
      ],
      "metadata": {
        "colab": {
          "base_uri": "https://localhost:8080/"
        },
        "id": "bVk5l75HxdZu",
        "outputId": "22ab1c55-7946-40d2-f6d8-9cbdd232ce2b"
      },
      "execution_count": null,
      "outputs": [
        {
          "output_type": "execute_result",
          "data": {
            "text/plain": [
              "array([[0.        , 0.        , 0.00392157, ..., 0.99607843, 1.        ,\n",
              "        1.        ],\n",
              "       [1.        , 1.        , 0.99607843, ..., 0.99607843, 1.        ,\n",
              "        1.        ],\n",
              "       [1.        , 1.        , 1.        , ..., 0.99607843, 0.99215686,\n",
              "        0.99215686],\n",
              "       ...,\n",
              "       [1.        , 1.        , 1.        , ..., 0.99607843, 0.99215686,\n",
              "        0.99215686],\n",
              "       [1.        , 0.90588235, 0.40392157, ..., 0.99607843, 1.        ,\n",
              "        1.        ],\n",
              "       [1.        , 1.        , 1.        , ..., 1.        , 1.        ,\n",
              "        1.        ]])"
            ]
          },
          "metadata": {},
          "execution_count": 113
        }
      ]
    },
    {
      "cell_type": "code",
      "source": [
        "def unison_shuffled_copies(a, b):\n",
        "    assert len(a) == len(b)\n",
        "    p = np.random.permutation(len(a))\n",
        "    return a[p], b[p]\n",
        "\n",
        "X, y = unison_shuffled_copies(X_edited, y)"
      ],
      "metadata": {
        "id": "12-t3_Hox-7F"
      },
      "execution_count": null,
      "outputs": []
    },
    {
      "cell_type": "code",
      "source": [
        "from sklearn.model_selection import train_test_split\n",
        "\n",
        "X_train, X_test, y_train, y_test = train_test_split(X, y, test_size=0.2, random_state=42)"
      ],
      "metadata": {
        "id": "r4otMTnGyQn1"
      },
      "execution_count": null,
      "outputs": []
    },
    {
      "cell_type": "markdown",
      "source": [
        "### CNN for Classification"
      ],
      "metadata": {
        "id": "1t5Kbf2N7PBA"
      }
    },
    {
      "cell_type": "code",
      "source": [
        "model_1 = tf.keras.Sequential([\n",
        "    tf.keras.layers.Conv2D(16, (3, 3), input_shape=(45,45,1), activation=\"relu\"),\n",
        "    tf.keras.layers.MaxPool2D(2, 2),\n",
        "    tf.keras.layers.Conv2D(32, (3, 3), activation=\"relu\"),\n",
        "    tf.keras.layers.MaxPool2D(2, 2),\n",
        "    tf.keras.layers.Conv2D(64, (3, 3), activation=\"relu\"),\n",
        "    tf.keras.layers.MaxPool2D(2, 2),\n",
        "    tf.keras.layers.Flatten(),\n",
        "    tf.keras.layers.Dense(512, activation=\"relu\"),\n",
        "    tf.keras.layers.Dense(15, activation=\"softmax\")\n",
        "\n",
        "])\n",
        "\n",
        "model_1.compile(loss='categorical_crossentropy',\n",
        "                optimizer=tf.keras.optimizers.Adam(),\n",
        "                metrics=[\"accuracy\"])\n",
        "\n",
        "model_1.fit(X_train, y_train, epochs=5, batch_size=32)"
      ],
      "metadata": {
        "colab": {
          "base_uri": "https://localhost:8080/"
        },
        "id": "pzX16fQT7Uyb",
        "outputId": "6e691d6d-a7e9-4e6a-8a52-e7d84d07dede"
      },
      "execution_count": null,
      "outputs": [
        {
          "output_type": "stream",
          "name": "stdout",
          "text": [
            "Epoch 1/5\n",
            "205/205 [==============================] - 3s 8ms/step - loss: 1.1991 - accuracy: 0.6230\n",
            "Epoch 2/5\n",
            "205/205 [==============================] - 1s 7ms/step - loss: 0.4224 - accuracy: 0.8757\n",
            "Epoch 3/5\n",
            "205/205 [==============================] - 1s 7ms/step - loss: 0.2874 - accuracy: 0.9146\n",
            "Epoch 4/5\n",
            "205/205 [==============================] - 1s 7ms/step - loss: 0.2041 - accuracy: 0.9375\n",
            "Epoch 5/5\n",
            "205/205 [==============================] - 1s 7ms/step - loss: 0.1646 - accuracy: 0.9485\n"
          ]
        },
        {
          "output_type": "execute_result",
          "data": {
            "text/plain": [
              "<keras.callbacks.History at 0x7fa152990950>"
            ]
          },
          "metadata": {},
          "execution_count": 120
        }
      ]
    },
    {
      "cell_type": "code",
      "source": [
        "model_1.predict(X_test)[15]"
      ],
      "metadata": {
        "colab": {
          "base_uri": "https://localhost:8080/"
        },
        "id": "_Yw6sOiLcOBB",
        "outputId": "927eabda-d03b-409d-df18-4f867c1d730b"
      },
      "execution_count": null,
      "outputs": [
        {
          "output_type": "execute_result",
          "data": {
            "text/plain": [
              "array([2.2935102e-12, 1.7774990e-14, 9.9982834e-01, 3.9745044e-11,\n",
              "       7.8065066e-09, 7.7909226e-06, 1.4886914e-08, 8.2578781e-06,\n",
              "       1.4420970e-04, 1.6097246e-07, 3.2880980e-08, 9.1002275e-06,\n",
              "       1.6460863e-06, 4.1925529e-07, 2.8177963e-08], dtype=float32)"
            ]
          },
          "metadata": {},
          "execution_count": 158
        }
      ]
    },
    {
      "cell_type": "code",
      "source": [
        "model_1.evaluate(X_test, y_test)"
      ],
      "metadata": {
        "colab": {
          "base_uri": "https://localhost:8080/"
        },
        "id": "gXuDQR3U-XTV",
        "outputId": "f3db0302-3425-4b9d-ca2f-abc02e7c0ffe"
      },
      "execution_count": null,
      "outputs": [
        {
          "output_type": "stream",
          "name": "stdout",
          "text": [
            "52/52 [==============================] - 1s 5ms/step - loss: 0.2515 - accuracy: 0.9305\n"
          ]
        },
        {
          "output_type": "execute_result",
          "data": {
            "text/plain": [
              "[0.2515210807323456, 0.9304878115653992]"
            ]
          },
          "metadata": {},
          "execution_count": 121
        }
      ]
    },
    {
      "cell_type": "code",
      "source": [
        "model_1.save(\"/content/gdrive/MyDrive/best_model_SavedModel_format\")"
      ],
      "metadata": {
        "colab": {
          "base_uri": "https://localhost:8080/"
        },
        "id": "P1FFxO4e-s7f",
        "outputId": "58301f3f-be47-40c6-8b2c-5500f61d06a3"
      },
      "execution_count": null,
      "outputs": [
        {
          "output_type": "stream",
          "name": "stdout",
          "text": [
            "INFO:tensorflow:Assets written to: /content/gdrive/MyDrive/best_model_SavedModel_format/assets\n"
          ]
        }
      ]
    },
    {
      "cell_type": "code",
      "source": [
        "!cp /content/best_model_SavedModel_format /content/gdrive/MyDrive"
      ],
      "metadata": {
        "colab": {
          "base_uri": "https://localhost:8080/"
        },
        "id": "_4vp3V6ABTO2",
        "outputId": "398c4f86-9e37-427d-bc03-e642e79e969b"
      },
      "execution_count": null,
      "outputs": [
        {
          "output_type": "stream",
          "name": "stdout",
          "text": [
            "cp: -r not specified; omitting directory '/content/best_model_SavedModel_format'\n"
          ]
        }
      ]
    }
  ],
  "metadata": {
    "colab": {
      "collapsed_sections": [],
      "name": "NN_model.pynb",
      "provenance": []
    },
    "kernelspec": {
      "display_name": "Python 3",
      "name": "python3"
    },
    "language_info": {
      "name": "python"
    },
    "accelerator": "GPU"
  },
  "nbformat": 4,
  "nbformat_minor": 0
}